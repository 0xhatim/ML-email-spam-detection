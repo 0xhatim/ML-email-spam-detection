{
 "cells": [
  {
   "cell_type": "code",
   "execution_count": 2,
   "metadata": {},
   "outputs": [
    {
     "name": "stdout",
     "output_type": "stream",
     "text": [
      "Epoch 1/5\n"
     ]
    },
    {
     "name": "stderr",
     "output_type": "stream",
     "text": [
      "c:\\Users\\Hatim\\AppData\\Local\\Programs\\Python\\Python310\\lib\\site-packages\\keras\\src\\layers\\core\\embedding.py:90: UserWarning: Argument `input_length` is deprecated. Just remove it.\n",
      "  warnings.warn(\n"
     ]
    },
    {
     "name": "stdout",
     "output_type": "stream",
     "text": [
      "\u001b[1m843/843\u001b[0m \u001b[32m━━━━━━━━━━━━━━━━━━━━\u001b[0m\u001b[37m\u001b[0m \u001b[1m29s\u001b[0m 31ms/step - accuracy: 0.9024 - loss: 0.2004 - val_accuracy: 0.9864 - val_loss: 0.0417\n",
      "Epoch 2/5\n",
      "\u001b[1m843/843\u001b[0m \u001b[32m━━━━━━━━━━━━━━━━━━━━\u001b[0m\u001b[37m\u001b[0m \u001b[1m26s\u001b[0m 31ms/step - accuracy: 0.9945 - loss: 0.0193 - val_accuracy: 0.9861 - val_loss: 0.0418\n",
      "Epoch 3/5\n",
      "\u001b[1m843/843\u001b[0m \u001b[32m━━━━━━━━━━━━━━━━━━━━\u001b[0m\u001b[37m\u001b[0m \u001b[1m48s\u001b[0m 40ms/step - accuracy: 0.9973 - loss: 0.0083 - val_accuracy: 0.9864 - val_loss: 0.0581\n",
      "Epoch 4/5\n",
      "\u001b[1m843/843\u001b[0m \u001b[32m━━━━━━━━━━━━━━━━━━━━\u001b[0m\u001b[37m\u001b[0m \u001b[1m26s\u001b[0m 31ms/step - accuracy: 0.9981 - loss: 0.0061 - val_accuracy: 0.9871 - val_loss: 0.0580\n",
      "Epoch 5/5\n",
      "\u001b[1m843/843\u001b[0m \u001b[32m━━━━━━━━━━━━━━━━━━━━\u001b[0m\u001b[37m\u001b[0m \u001b[1m25s\u001b[0m 29ms/step - accuracy: 0.9987 - loss: 0.0047 - val_accuracy: 0.9816 - val_loss: 0.1117\n",
      "\u001b[1m211/211\u001b[0m \u001b[32m━━━━━━━━━━━━━━━━━━━━\u001b[0m\u001b[37m\u001b[0m \u001b[1m1s\u001b[0m 5ms/step - accuracy: 0.9836 - loss: 0.1034\n",
      "Test Accuracy: 98.16%\n",
      "\u001b[1m1/1\u001b[0m \u001b[32m━━━━━━━━━━━━━━━━━━━━\u001b[0m\u001b[37m\u001b[0m \u001b[1m0s\u001b[0m 180ms/step\n",
      "Prediction: spam\n"
     ]
    }
   ],
   "source": [
    "# Import necessary libraries\n",
    "import pandas as pd\n",
    "import numpy as np\n",
    "import re\n",
    "from sklearn.model_selection import train_test_split\n",
    "from sklearn.preprocessing import LabelEncoder\n",
    "from tensorflow.keras.preprocessing.text import Tokenizer\n",
    "from tensorflow.keras.preprocessing.sequence import pad_sequences\n",
    "from tensorflow.keras.utils import to_categorical\n",
    "from tensorflow.keras.models import Sequential\n",
    "from tensorflow.keras.layers import Embedding, LSTM, Conv1D, MaxPooling1D, Dense, Dropout\n",
    "\n",
    "# Load the dataset\n",
    "df = pd.read_csv('enron_spam_data.csv')\n",
    "\n",
    "# Preprocess the dataset\n",
    "def clean_text(text):\n",
    "    text = re.sub(r'\\W', ' ', str(text))\n",
    "    text = text.lower()\n",
    "    text = re.sub(r'\\s+', ' ', text)\n",
    "    return text\n",
    "\n",
    "df['Text'] = df['Subject'].fillna('') + ' ' + df['Message'].fillna('')\n",
    "df['Text'] = df['Text'].apply(clean_text)\n",
    "\n",
    "# Encode labels\n",
    "label_encoder = LabelEncoder()\n",
    "df['Label'] = label_encoder.fit_transform(df['Spam/Ham'])\n",
    "\n",
    "# Tokenization and Padding\n",
    "MAX_WORDS = 10000\n",
    "MAX_LEN = 100\n",
    "tokenizer = Tokenizer(num_words=MAX_WORDS)\n",
    "tokenizer.fit_on_texts(df['Text'])\n",
    "sequences = tokenizer.texts_to_sequences(df['Text'])\n",
    "X = pad_sequences(sequences, maxlen=MAX_LEN)\n",
    "y = df['Label']\n",
    "\n",
    "# Split data\n",
    "X_train, X_test, y_train, y_test = train_test_split(X, y, test_size=0.2, random_state=42)\n",
    "\n",
    "# Building the model\n",
    "model = Sequential()\n",
    "model.add(Embedding(MAX_WORDS, 128, input_length=MAX_LEN))\n",
    "model.add(Conv1D(64, 5, activation='relu'))\n",
    "model.add(MaxPooling1D(pool_size=4))\n",
    "model.add(LSTM(64))\n",
    "model.add(Dropout(0.5))\n",
    "model.add(Dense(2, activation='softmax'))\n",
    "\n",
    "# Compile the model\n",
    "model.compile(loss='sparse_categorical_crossentropy', optimizer='adam', metrics=['accuracy'])\n",
    "\n",
    "# Train the model\n",
    "model.fit(X_train, y_train, epochs=5, batch_size=32, validation_data=(X_test, y_test))\n",
    "\n",
    "# Evaluate the model\n",
    "loss, accuracy = model.evaluate(X_test, y_test)\n",
    "print(f'Test Accuracy: {accuracy * 100:.2f}%')\n",
    "\n",
    "# Predict the spam/ham category of new messages\n",
    "def predict_spam_ham(text):\n",
    "    cleaned_text = clean_text(text)\n",
    "    sequence = tokenizer.texts_to_sequences([cleaned_text])\n",
    "    padded_sequence = pad_sequences(sequence, maxlen=MAX_LEN)\n",
    "    prediction = model.predict(padded_sequence)\n",
    "    return label_encoder.inverse_transform(np.argmax(prediction, axis=1))[0]\n",
    "\n",
    "# Example prediction\n",
    "example_text = \"Win a brand new car! Click here for details.\"\n",
    "print(f\"Prediction: {predict_spam_ham(example_text)}\")\n"
   ]
  }
 ],
 "metadata": {
  "kernelspec": {
   "display_name": "Python 3",
   "language": "python",
   "name": "python3"
  },
  "language_info": {
   "codemirror_mode": {
    "name": "ipython",
    "version": 3
   },
   "file_extension": ".py",
   "mimetype": "text/x-python",
   "name": "python",
   "nbconvert_exporter": "python",
   "pygments_lexer": "ipython3",
   "version": "3.10.11"
  }
 },
 "nbformat": 4,
 "nbformat_minor": 2
}
