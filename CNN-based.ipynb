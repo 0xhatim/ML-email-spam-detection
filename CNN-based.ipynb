{
 "cells": [
  {
   "cell_type": "code",
   "execution_count": 12,
   "metadata": {},
   "outputs": [
    {
     "name": "stderr",
     "output_type": "stream",
     "text": [
      "C:\\Users\\Hatim\\AppData\\Local\\Temp\\ipykernel_25208\\1331761199.py:14: DtypeWarning: Columns (9) have mixed types. Specify dtype option on import or set low_memory=False.\n",
      "  df = pd.read_csv('enron_05_17_2015_with_labels_v2.csv\\enron_05_17_2015_with_labels_v2.csv')\n"
     ]
    },
    {
     "name": "stdout",
     "output_type": "stream",
     "text": [
      "Epoch 1/5\n"
     ]
    },
    {
     "name": "stderr",
     "output_type": "stream",
     "text": [
      "c:\\Users\\Hatim\\AppData\\Local\\Programs\\Python\\Python310\\lib\\site-packages\\keras\\src\\layers\\core\\embedding.py:90: UserWarning: Argument `input_length` is deprecated. Just remove it.\n",
      "  warnings.warn(\n"
     ]
    },
    {
     "name": "stdout",
     "output_type": "stream",
     "text": [
      "\u001b[1m12935/12935\u001b[0m \u001b[32m━━━━━━━━━━━━━━━━━━━━\u001b[0m\u001b[37m\u001b[0m \u001b[1m272s\u001b[0m 21ms/step - accuracy: 0.9962 - loss: 0.0253 - val_accuracy: 0.9969 - val_loss: 0.0208\n",
      "Epoch 2/5\n",
      "\u001b[1m12935/12935\u001b[0m \u001b[32m━━━━━━━━━━━━━━━━━━━━\u001b[0m\u001b[37m\u001b[0m \u001b[1m298s\u001b[0m 23ms/step - accuracy: 0.9964 - loss: 0.0186 - val_accuracy: 0.9969 - val_loss: 0.0207\n",
      "Epoch 3/5\n",
      "\u001b[1m12935/12935\u001b[0m \u001b[32m━━━━━━━━━━━━━━━━━━━━\u001b[0m\u001b[37m\u001b[0m \u001b[1m265s\u001b[0m 19ms/step - accuracy: 0.9968 - loss: 0.0168 - val_accuracy: 0.9968 - val_loss: 0.0210\n",
      "Epoch 4/5\n",
      "\u001b[1m12935/12935\u001b[0m \u001b[32m━━━━━━━━━━━━━━━━━━━━\u001b[0m\u001b[37m\u001b[0m \u001b[1m250s\u001b[0m 19ms/step - accuracy: 0.9964 - loss: 0.0183 - val_accuracy: 0.9969 - val_loss: 0.0284\n",
      "Epoch 5/5\n",
      "\u001b[1m12935/12935\u001b[0m \u001b[32m━━━━━━━━━━━━━━━━━━━━\u001b[0m\u001b[37m\u001b[0m \u001b[1m252s\u001b[0m 19ms/step - accuracy: 0.9969 - loss: 0.0167 - val_accuracy: 0.9969 - val_loss: 0.0292\n",
      "\u001b[1m3234/3234\u001b[0m \u001b[32m━━━━━━━━━━━━━━━━━━━━\u001b[0m\u001b[37m\u001b[0m \u001b[1m8s\u001b[0m 3ms/step - accuracy: 0.9970 - loss: 0.0281\n",
      "CNN Test Accuracy: 99.69%\n"
     ]
    }
   ],
   "source": [
    "# Import necessary libraries\n",
    "import pandas as pd\n",
    "import numpy as np\n",
    "import re\n",
    "from sklearn.model_selection import train_test_split\n",
    "from sklearn.preprocessing import LabelEncoder\n",
    "from tensorflow.keras.preprocessing.text import Tokenizer\n",
    "from tensorflow.keras.preprocessing.sequence import pad_sequences\n",
    "from tensorflow.keras.models import Sequential\n",
    "from tensorflow.keras.layers import Embedding, Conv1D, MaxPooling1D, Flatten, Dense, Dropout\n",
    "import matplotlib.pyplot as plt\n",
    "\n",
    "# Load and prepare the dataset\n",
    "df = pd.read_csv('enron_05_17_2015_with_labels_v2.csv\\enron_05_17_2015_with_labels_v2.csv')\n",
    "df['Text'] = df['Subject'].fillna('') + ' ' + df['content'].fillna('')\n",
    "df['Text'] = df['Text'].apply(lambda text: re.sub(r'\\W', ' ', text.lower()).strip())\n",
    "label_encoder = LabelEncoder()\n",
    "df['Label'] = label_encoder.fit_transform(df['labeled'])\n",
    "\n",
    "# Tokenization and Padding\n",
    "MAX_WORDS = 10000\n",
    "MAX_LEN = 100\n",
    "tokenizer = Tokenizer(num_words=MAX_WORDS)\n",
    "tokenizer.fit_on_texts(df['Text'])\n",
    "sequences = tokenizer.texts_to_sequences(df['Text'])\n",
    "X = pad_sequences(sequences, maxlen=MAX_LEN)\n",
    "y = df['Label']\n",
    "\n",
    "# Split data into training and testing sets\n",
    "X_train, X_test, y_train, y_test = train_test_split(X, y, test_size=0.2, random_state=42)\n",
    "\n",
    "# Building the CNN model\n",
    "model_cnn = Sequential()\n",
    "model_cnn.add(Embedding(MAX_WORDS, 128, input_length=MAX_LEN))\n",
    "model_cnn.add(Conv1D(64, 5, activation='relu'))\n",
    "model_cnn.add(MaxPooling1D(pool_size=4))\n",
    "model_cnn.add(Flatten())\n",
    "model_cnn.add(Dropout(0.5))\n",
    "model_cnn.add(Dense(2, activation='softmax'))\n",
    "model_cnn.compile(loss='sparse_categorical_crossentropy', optimizer='adam', metrics=['accuracy'])\n",
    "\n",
    "# Train the CNN model\n",
    "history_cnn = model_cnn.fit(X_train, y_train, epochs=5, batch_size=32, validation_data=(X_test, y_test))\n",
    "\n",
    "# Evaluate the CNN model\n",
    "loss_cnn, accuracy_cnn = model_cnn.evaluate(X_test, y_test)\n",
    "print(f'CNN Test Accuracy: {accuracy_cnn * 100:.2f}%')\n"
   ]
  }
 ],
 "metadata": {
  "kernelspec": {
   "display_name": "Python 3",
   "language": "python",
   "name": "python3"
  },
  "language_info": {
   "codemirror_mode": {
    "name": "ipython",
    "version": 3
   },
   "file_extension": ".py",
   "mimetype": "text/x-python",
   "name": "python",
   "nbconvert_exporter": "python",
   "pygments_lexer": "ipython3",
   "version": "3.10.11"
  }
 },
 "nbformat": 4,
 "nbformat_minor": 2
}
