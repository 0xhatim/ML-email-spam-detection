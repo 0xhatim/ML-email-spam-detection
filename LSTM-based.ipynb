{
 "cells": [
  {
   "cell_type": "code",
   "execution_count": 13,
   "metadata": {},
   "outputs": [
    {
     "name": "stderr",
     "output_type": "stream",
     "text": [
      "C:\\Users\\Hatim\\AppData\\Local\\Temp\\ipykernel_10384\\809019694.py:14: DtypeWarning: Columns (9) have mixed types. Specify dtype option on import or set low_memory=False.\n",
      "  df = pd.read_csv('enron_05_17_2015_with_labels_v2.csv\\enron_05_17_2015_with_labels_v2.csv')\n"
     ]
    },
    {
     "name": "stdout",
     "output_type": "stream",
     "text": [
      "Epoch 1/5\n"
     ]
    },
    {
     "name": "stderr",
     "output_type": "stream",
     "text": [
      "c:\\Users\\Hatim\\AppData\\Local\\Programs\\Python\\Python310\\lib\\site-packages\\keras\\src\\layers\\core\\embedding.py:90: UserWarning: Argument `input_length` is deprecated. Just remove it.\n",
      "  warnings.warn(\n"
     ]
    },
    {
     "name": "stdout",
     "output_type": "stream",
     "text": [
      "\u001b[1m12935/12935\u001b[0m \u001b[32m━━━━━━━━━━━━━━━━━━━━\u001b[0m\u001b[37m\u001b[0m \u001b[1m360s\u001b[0m 28ms/step - accuracy: 0.9961 - loss: 0.0269 - val_accuracy: 0.9969 - val_loss: 0.0180\n",
      "Epoch 2/5\n",
      "\u001b[1m12935/12935\u001b[0m \u001b[32m━━━━━━━━━━━━━━━━━━━━\u001b[0m\u001b[37m\u001b[0m \u001b[1m395s\u001b[0m 31ms/step - accuracy: 0.9968 - loss: 0.0161 - val_accuracy: 0.9968 - val_loss: 0.0169\n",
      "Epoch 3/5\n",
      "\u001b[1m12935/12935\u001b[0m \u001b[32m━━━━━━━━━━━━━━━━━━━━\u001b[0m\u001b[37m\u001b[0m \u001b[1m377s\u001b[0m 29ms/step - accuracy: 0.9969 - loss: 0.0138 - val_accuracy: 0.9969 - val_loss: 0.0169\n",
      "Epoch 4/5\n",
      "\u001b[1m12935/12935\u001b[0m \u001b[32m━━━━━━━━━━━━━━━━━━━━\u001b[0m\u001b[37m\u001b[0m \u001b[1m395s\u001b[0m 31ms/step - accuracy: 0.9969 - loss: 0.0120 - val_accuracy: 0.9968 - val_loss: 0.0172\n",
      "Epoch 5/5\n",
      "\u001b[1m12935/12935\u001b[0m \u001b[32m━━━━━━━━━━━━━━━━━━━━\u001b[0m\u001b[37m\u001b[0m \u001b[1m480s\u001b[0m 33ms/step - accuracy: 0.9968 - loss: 0.0117 - val_accuracy: 0.9969 - val_loss: 0.0176\n",
      "\u001b[1m3234/3234\u001b[0m \u001b[32m━━━━━━━━━━━━━━━━━━━━\u001b[0m\u001b[37m\u001b[0m \u001b[1m30s\u001b[0m 9ms/step - accuracy: 0.9969 - loss: 0.0175\n",
      "LSTM Test Accuracy: 99.69%\n"
     ]
    }
   ],
   "source": [
    "# Import necessary libraries\n",
    "import pandas as pd\n",
    "import numpy as np\n",
    "import re\n",
    "from sklearn.model_selection import train_test_split\n",
    "from sklearn.preprocessing import LabelEncoder\n",
    "from tensorflow.keras.preprocessing.text import Tokenizer\n",
    "from tensorflow.keras.preprocessing.sequence import pad_sequences\n",
    "from tensorflow.keras.models import Sequential\n",
    "from tensorflow.keras.layers import Embedding, LSTM, Dense, Dropout\n",
    "import matplotlib.pyplot as plt\n",
    "\n",
    "# Load and prepare the dataset\n",
    "df = pd.read_csv('enron_05_17_2015_with_labels_v2.csv\\enron_05_17_2015_with_labels_v2.csv')\n",
    "df['Text'] = df['Subject'].fillna('') + ' ' + df['content'].fillna('')\n",
    "df['Text'] = df['Text'].apply(lambda text: re.sub(r'\\W', ' ', text.lower()).strip())\n",
    "label_encoder = LabelEncoder()\n",
    "df['Label'] = label_encoder.fit_transform(df['labeled'])\n",
    "\n",
    "# Tokenization and Padding\n",
    "MAX_WORDS = 10000\n",
    "MAX_LEN = 100\n",
    "tokenizer = Tokenizer(num_words=MAX_WORDS)\n",
    "tokenizer.fit_on_texts(df['Text'])\n",
    "sequences = tokenizer.texts_to_sequences(df['Text'])\n",
    "X = pad_sequences(sequences, maxlen=MAX_LEN)\n",
    "y = df['Label']\n",
    "\n",
    "\n",
    "# Split data\n",
    "X_train, X_test, y_train, y_test = train_test_split(X, y, test_size=0.2, random_state=42)\n",
    "\n",
    "# Building the LSTM model\n",
    "model_lstm = Sequential()\n",
    "model_lstm.add(Embedding(MAX_WORDS, 128, input_length=MAX_LEN))\n",
    "model_lstm.add(LSTM(64))\n",
    "model_lstm.add(Dense(2, activation='softmax'))\n",
    "model_lstm.compile(loss='sparse_categorical_crossentropy', optimizer='adam', metrics=['accuracy'])\n",
    "history_lstm = model_lstm.fit(X_train, y_train, epochs=5, batch_size=32, validation_data=(X_test, y_test))\n",
    "\n",
    "# Evaluate the LSTM model\n",
    "loss_lstm, accuracy_lstm = model_lstm.evaluate(X_test, y_test)\n",
    "print(f'LSTM Test Accuracy: {accuracy_lstm * 100:.2f}%')\n"
   ]
  },
  {
   "cell_type": "code",
   "execution_count": 14,
   "metadata": {},
   "outputs": [
    {
     "ename": "NameError",
     "evalue": "name 'Conv1D' is not defined",
     "output_type": "error",
     "traceback": [
      "\u001b[1;31m---------------------------------------------------------------------------\u001b[0m",
      "\u001b[1;31mNameError\u001b[0m                                 Traceback (most recent call last)",
      "Cell \u001b[1;32mIn[14], line 4\u001b[0m\n\u001b[0;32m      2\u001b[0m model_cnn \u001b[38;5;241m=\u001b[39m Sequential()\n\u001b[0;32m      3\u001b[0m model_cnn\u001b[38;5;241m.\u001b[39madd(Embedding(MAX_WORDS, \u001b[38;5;241m128\u001b[39m, input_length\u001b[38;5;241m=\u001b[39mMAX_LEN))\n\u001b[1;32m----> 4\u001b[0m model_cnn\u001b[38;5;241m.\u001b[39madd(\u001b[43mConv1D\u001b[49m(\u001b[38;5;241m64\u001b[39m, \u001b[38;5;241m5\u001b[39m, activation\u001b[38;5;241m=\u001b[39m\u001b[38;5;124m'\u001b[39m\u001b[38;5;124mrelu\u001b[39m\u001b[38;5;124m'\u001b[39m))\n\u001b[0;32m      5\u001b[0m model_cnn\u001b[38;5;241m.\u001b[39madd(MaxPooling1D(pool_size\u001b[38;5;241m=\u001b[39m\u001b[38;5;241m4\u001b[39m))\n\u001b[0;32m      6\u001b[0m model_cnn\u001b[38;5;241m.\u001b[39madd(Dense(\u001b[38;5;241m2\u001b[39m, activation\u001b[38;5;241m=\u001b[39m\u001b[38;5;124m'\u001b[39m\u001b[38;5;124msoftmax\u001b[39m\u001b[38;5;124m'\u001b[39m))\n",
      "\u001b[1;31mNameError\u001b[0m: name 'Conv1D' is not defined"
     ]
    }
   ],
   "source": [
    "# Building the CNN model\n",
    "model_cnn = Sequential()\n",
    "model_cnn.add(Embedding(MAX_WORDS, 128, input_length=MAX_LEN))\n",
    "model_cnn.add(Conv1D(64, 5, activation='relu'))\n",
    "model_cnn.add(MaxPooling1D(pool_size=4))\n",
    "model_cnn.add(Dense(2, activation='softmax'))\n",
    "model_cnn.compile(loss='sparse_categorical_crossentropy', optimizer='adam', metrics=['accuracy'])\n",
    "history_cnn = model_cnn.fit(X_train, y_train, epochs=5, batch_size=32, validation_data=(X_test, y_test))\n",
    "\n",
    "# Evaluate the CNN model\n",
    "loss_cnn, accuracy_cnn = model_cnn.evaluate(X_test, y_test)\n",
    "print(f'CNN Test Accuracy: {accuracy_cnn * 100:.2f}%')\n"
   ]
  }
 ],
 "metadata": {
  "kernelspec": {
   "display_name": "Python 3",
   "language": "python",
   "name": "python3"
  },
  "language_info": {
   "codemirror_mode": {
    "name": "ipython",
    "version": 3
   },
   "file_extension": ".py",
   "mimetype": "text/x-python",
   "name": "python",
   "nbconvert_exporter": "python",
   "pygments_lexer": "ipython3",
   "version": "3.10.11"
  }
 },
 "nbformat": 4,
 "nbformat_minor": 2
}
